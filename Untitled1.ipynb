{
 "cells": [
  {
   "cell_type": "code",
   "execution_count": null,
   "metadata": {
    "collapsed": true
   },
   "outputs": [],
   "source": [
    "from __future__ import division\n",
    "import numpy as np\n",
    "import matplotlib.pyplot as plt\n",
    "from scipy.integrate import odeint\n",
    "\n",
    "r_earth = 150e9 #meters\n",
    "t_earth = 3e7 * 3e8 #seconds\n",
    "drdtau_earth = 9e-2 #meters per second\n",
    "dphidtau_earth = 7.3e-5 #radians per secong\n",
    "\n",
    "\n",
    "rs = 1\n",
    "c=3e8\n",
    "\n",
    "def geo(x, tau):\n",
    "    '''\n",
    "    x[0] = t\n",
    "    x[1] = r\n",
    "    x[2] = theta\n",
    "    x[3] = phi\n",
    "    x[4] = dt dtau\n",
    "    x[5] = dr dtau\n",
    "    x[6] = dtheta dtau\n",
    "    x[7] = dphi dtau\n",
    "    '''\n",
    "    dxdtau = np.zeros_like(x)\n",
    "\n",
    "    dxdtau[0] = x[4]\n",
    "    dxdtau[1] = x[5]\n",
    "    dxdtau[2] = x[6]\n",
    "    dxdtau[3] = x[7]\n",
    "    dxdtau[4] = -(\n",
    "    \t(rs/(x[1]*(x[1]-rs)))*x[4]*x[5]\n",
    "    \t)\n",
    "    dxdtau[5] = -(\n",
    "    \t+(1/2)*(-rs/(x[1]*(x[1]-rs)))*(x[5])**2\n",
    "    \t-(x[1]-rs)*(x[6])**2\n",
    "    \t-(x[1]-rs)*(np.sin(x[2])**2)*(x[7])**2\n",
    "    \t+(1/2)*(c**2)*((rs*(x[1]-rs))/(x[1]**3))*(x[4])**2\n",
    "    \t)\n",
    "    dxdtau[6] = -(\n",
    "    \t+(2/x[1])*x[6]*x[5]\n",
    "    \t-np.sin(x[2])*np.cos(x[2])*x[7]**2\n",
    "    \t)\n",
    "    dxdtau[7] = -(\n",
    "    \t+(2/x[1])*x[7]*x[5] + 2*(np.tan(x[2])**-1)*x[6]*x[7]\n",
    "    \t)\n",
    "    return dxdtau\n",
    "\n",
    "x0_ = np.array([\n",
    "\t0,\n",
    "\t1 * r_earth,\n",
    "\tnp.pi/2,\n",
    "\t0,\n",
    "\t1,\n",
    "\t0,\n",
    "\t0,\n",
    "\t1 * dphidtau_earth\n",
    "\t])\n",
    "\n",
    "\n",
    "tau_ = np.linspace(0,t_earth)\n",
    "x_ = odeint(geo, x0_, tau_)\n",
    "\n",
    "plt.plot(x_[:,0], x_[:,1])\n",
    "plt.show()\n"
   ]
  },
  {
   "cell_type": "code",
   "execution_count": null,
   "metadata": {
    "collapsed": true
   },
   "outputs": [],
   "source": []
  }
 ],
 "metadata": {
  "kernelspec": {
   "display_name": "Python 2",
   "language": "python",
   "name": "python2"
  },
  "language_info": {
   "codemirror_mode": {
    "name": "ipython",
    "version": 2
   },
   "file_extension": ".py",
   "mimetype": "text/x-python",
   "name": "python",
   "nbconvert_exporter": "python",
   "pygments_lexer": "ipython2",
   "version": "2.7.10"
  }
 },
 "nbformat": 4,
 "nbformat_minor": 0
}
