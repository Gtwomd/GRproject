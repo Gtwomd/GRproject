{
 "cells": [
  {
   "cell_type": "code",
   "execution_count": 101,
   "metadata": {
    "collapsed": false,
    "deletable": true,
    "editable": true
   },
   "outputs": [],
   "source": [
    "import gravipy\n",
    "import numpy as np\n",
    "import matplotlib.pyplot\n",
    "import sympy\n",
    "from scipy.integrate import odeint\n",
    "from sympy import lambdify\n",
    "from sympy.abc import a,b\n",
    "gravipy.init_printing()"
   ]
  },
  {
   "cell_type": "code",
   "execution_count": 2,
   "metadata": {
    "collapsed": true,
    "deletable": true,
    "editable": true
   },
   "outputs": [],
   "source": [
    "t, m,r,theta,phi,tau = gravipy.symbols('t M r \\\\theta \\phi \\\\tau')"
   ]
  },
  {
   "cell_type": "code",
   "execution_count": 3,
   "metadata": {
    "collapsed": false,
    "deletable": true,
    "editable": true
   },
   "outputs": [],
   "source": [
    "x = gravipy.Coordinates('\\chi', [t, r, theta, phi])\n",
    "Metric = gravipy.diag(-(1-2*m/r), 1/(1-2*m/r), r**2, r**2*gravipy.sin(theta)**2)\n",
    "Metric2D = gravipy.diag(-(1-2*m/r), 1/(1-2*m/r), r**2, r**2)\n",
    "Metric_weak = gravipy.diag(-(1+2*m/r), (1+2*m/r), (1+2*m/r), (1+2*m/r))"
   ]
  },
  {
   "cell_type": "code",
   "execution_count": 4,
   "metadata": {
    "collapsed": false,
    "deletable": true,
    "editable": true
   },
   "outputs": [],
   "source": [
    "g = gravipy.MetricTensor('g', x, Metric2D)\n"
   ]
  },
  {
   "cell_type": "code",
   "execution_count": 5,
   "metadata": {
    "collapsed": false,
    "deletable": true,
    "editable": true
   },
   "outputs": [],
   "source": [
    "#Ga = gravipy.Christoffel('Ga', g)"
   ]
  },
  {
   "cell_type": "code",
   "execution_count": 6,
   "metadata": {
    "collapsed": false,
    "deletable": true,
    "editable": true
   },
   "outputs": [],
   "source": [
    "#Ga(gravipy.All,gravipy.All,gravipy.All)"
   ]
  },
  {
   "cell_type": "code",
   "execution_count": 7,
   "metadata": {
    "collapsed": false,
    "deletable": true,
    "editable": true
   },
   "outputs": [
    {
     "data": {
      "image/png": "[encoded data removed]",
      "text/latex": [
       "$$\\left[\\begin{matrix}- \\frac{2 M \\frac{d}{d \\tau} r{\\left (\\tau \\right )}}{r^{2}{\\left (\\tau \\right )}} \\frac{d}{d \\tau} t{\\left (\\tau \\right )} + \\left(\\frac{2 M}{r{\\left (\\tau \\right )}} - 1\\right) \\frac{d^{2}}{d \\tau^{2}}  t{\\left (\\tau \\right )} & \\frac{M \\frac{d}{d \\tau} t{\\left (\\tau \\right )}^{2}}{r^{2}{\\left (\\tau \\right )}} - \\frac{M \\frac{d}{d \\tau} r{\\left (\\tau \\right )}^{2}}{\\left(- \\frac{2 M}{r{\\left (\\tau \\right )}} + 1\\right)^{2} r^{2}{\\left (\\tau \\right )}} - r{\\left (\\tau \\right )} \\frac{d}{d \\tau} \\phi{\\left (\\tau \\right )}^{2} - r{\\left (\\tau \\right )} \\frac{d}{d \\tau} \\theta{\\left (\\tau \\right )}^{2} + \\frac{\\frac{d^{2}}{d \\tau^{2}}  r{\\left (\\tau \\right )}}{- \\frac{2 M}{r{\\left (\\tau \\right )}} + 1} & r^{2}{\\left (\\tau \\right )} \\frac{d^{2}}{d \\tau^{2}}  \\theta{\\left (\\tau \\right )} + 2 r{\\left (\\tau \\right )} \\frac{d}{d \\tau} \\theta{\\left (\\tau \\right )} \\frac{d}{d \\tau} r{\\left (\\tau \\right )} & r^{2}{\\left (\\tau \\right )} \\frac{d^{2}}{d \\tau^{2}}  \\phi{\\left (\\tau \\right )} + 2 r{\\left (\\tau \\right )} \\frac{d}{d \\tau} \\phi{\\left (\\tau \\right )} \\frac{d}{d \\tau} r{\\left (\\tau \\right )}\\end{matrix}\\right]$$"
      ],
      "text/plain": [
       "⎡                                                                             \n",
       "⎢                                                                             \n",
       "⎢        d              d                                               ⎛  d  \n",
       "⎢  2⋅M⋅─────(r(\\tau))⋅─────(t(\\tau))                    2             M⋅⎜─────\n",
       "⎢      d\\tau          d\\tau            ⎛  2⋅M      ⎞   d                ⎝d\\tau\n",
       "⎢- ───────────────────────────────── + ⎜─────── - 1⎟⋅──────(t(\\tau))  ────────\n",
       "⎢                2                     ⎝r(\\tau)    ⎠      2                  2\n",
       "⎢               r (\\tau)                             d\\tau                  r \n",
       "⎢                                                                             \n",
       "⎣                                                                             \n",
       "\n",
       "                                                                              \n",
       "          2                        2                                          \n",
       "         ⎞         ⎛  d           ⎞                                           \n",
       "(t(\\tau))⎟       M⋅⎜─────(r(\\tau))⎟                                  2        \n",
       "         ⎠         ⎝d\\tau         ⎠               ⎛  d              ⎞         \n",
       "─────────── - ───────────────────────── - r(\\tau)⋅⎜─────(\\phi(\\tau))⎟  - r(\\ta\n",
       "                             2                    ⎝d\\tau            ⎠         \n",
       "(\\tau)        ⎛    2⋅M      ⎞   2                                             \n",
       "              ⎜- ─────── + 1⎟ ⋅r (\\tau)                                       \n",
       "              ⎝  r(\\tau)    ⎠                                                 \n",
       "\n",
       "                               2                                              \n",
       "                              d                                               \n",
       "                            ──────(r(\\tau))                                   \n",
       "                        2        2                       2                    \n",
       "   ⎛  d                ⎞    d\\tau             2         d                     \n",
       "u)⋅⎜─────(\\theta(\\tau))⎟  + ───────────────  r (\\tau)⋅──────(\\theta(\\tau)) + 2\n",
       "   ⎝d\\tau              ⎠         2⋅M                       2                  \n",
       "                             - ─────── + 1            d\\tau                   \n",
       "                               r(\\tau)                                        \n",
       "                                                                              \n",
       "\n",
       "                                                                              \n",
       "                                                                              \n",
       "                                                                              \n",
       "                                                         2                    \n",
       "           d                   d              2         d                     \n",
       "⋅r(\\tau)⋅─────(\\theta(\\tau))⋅─────(r(\\tau))  r (\\tau)⋅──────(\\phi(\\tau)) + 2⋅r\n",
       "         d\\tau               d\\tau                         2                  \n",
       "                                                      d\\tau                   \n",
       "                                                                              \n",
       "                                                                              \n",
       "\n",
       "                                       ⎤\n",
       "                                       ⎥\n",
       "                                       ⎥\n",
       "                                       ⎥\n",
       "         d                 d           ⎥\n",
       "(\\tau)⋅─────(\\phi(\\tau))⋅─────(r(\\tau))⎥\n",
       "       d\\tau             d\\tau         ⎥\n",
       "                                       ⎥\n",
       "                                       ⎥\n",
       "                                       ⎦"
      ]
     },
     "execution_count": 7,
     "metadata": {},
     "output_type": "execute_result"
    }
   ],
   "source": [
    "w = gravipy.Geodesic('w', g, tau)\n",
    "w(gravipy.All)"
   ]
  },
  {
   "cell_type": "code",
   "execution_count": 8,
   "metadata": {
    "collapsed": false,
    "deletable": true,
    "editable": true
   },
   "outputs": [
    {
     "name": "stdout",
     "output_type": "stream",
     "text": [
      "Matrix([[-2*M*Derivative(r(\\tau), \\tau)*Derivative(t(\\tau), \\tau)/r(\\tau)**2 + (2*M/r(\\tau) - 1)*Derivative(t(\\tau), \\tau, \\tau), M*Derivative(t(\\tau), \\tau)**2/r(\\tau)**2 - M*Derivative(r(\\tau), \\tau)**2/((-2*M/r(\\tau) + 1)**2*r(\\tau)**2) - r(\\tau)*Derivative(\\phi(\\tau), \\tau)**2 - r(\\tau)*Derivative(\\theta(\\tau), \\tau)**2 + Derivative(r(\\tau), \\tau, \\tau)/(-2*M/r(\\tau) + 1), r(\\tau)**2*Derivative(\\theta(\\tau), \\tau, \\tau) + 2*r(\\tau)*Derivative(\\theta(\\tau), \\tau)*Derivative(r(\\tau), \\tau), r(\\tau)**2*Derivative(\\phi(\\tau), \\tau, \\tau) + 2*r(\\tau)*Derivative(\\phi(\\tau), \\tau)*Derivative(r(\\tau), \\tau)]])\n"
     ]
    }
   ],
   "source": [
    "print w(gravipy.All)"
   ]
  },
  {
   "cell_type": "code",
   "execution_count": 64,
   "metadata": {
    "collapsed": false
   },
   "outputs": [
    {
     "data": {
      "image/png": "[encoded data removed]",
      "text/latex": [
       "$$- \\frac{2 M \\frac{d}{d \\tau} r{\\left (\\tau \\right )}}{r^{2}{\\left (\\tau \\right )}} \\frac{d}{d \\tau} t{\\left (\\tau \\right )} + \\left(\\frac{2 M}{r{\\left (\\tau \\right )}} - 1\\right) \\frac{d^{2}}{d \\tau^{2}}  t{\\left (\\tau \\right )}$$"
      ],
      "text/plain": [
       "        d              d                                           \n",
       "  2⋅M⋅─────(r(\\tau))⋅─────(t(\\tau))                    2           \n",
       "      d\\tau          d\\tau            ⎛  2⋅M      ⎞   d            \n",
       "- ───────────────────────────────── + ⎜─────── - 1⎟⋅──────(t(\\tau))\n",
       "                2                     ⎝r(\\tau)    ⎠      2         \n",
       "               r (\\tau)                             d\\tau          "
      ]
     },
     "execution_count": 64,
     "metadata": {},
     "output_type": "execute_result"
    }
   ],
   "source": [
    "w(1)"
   ]
  },
  {
   "cell_type": "code",
   "execution_count": 86,
   "metadata": {
    "collapsed": false,
    "deletable": true,
    "editable": true
   },
   "outputs": [
    {
     "name": "stdout",
     "output_type": "stream",
     "text": [
      "set([\\tau, M])\n"
     ]
    }
   ],
   "source": [
    "expression = sympy.Eq(w(1),0)\n",
    "print expression.free_symbols"
   ]
  },
  {
   "cell_type": "code",
   "execution_count": 90,
   "metadata": {
    "collapsed": false
   },
   "outputs": [
    {
     "data": {
      "image/png": "[encoded data removed]",
      "text/latex": [
       "$$- \\frac{2 M \\frac{d}{d \\tau} r{\\left (\\tau \\right )}}{r^{2}{\\left (\\tau \\right )}} \\frac{d}{d \\tau} t{\\left (\\tau \\right )} + \\left(\\frac{2 M}{r{\\left (\\tau \\right )}} - 1\\right) \\frac{d^{2}}{d \\tau^{2}}  t{\\left (\\tau \\right )} = 0$$"
      ],
      "text/plain": [
       "        d              d                                               \n",
       "  2⋅M⋅─────(r(\\tau))⋅─────(t(\\tau))                    2               \n",
       "      d\\tau          d\\tau            ⎛  2⋅M      ⎞   d                \n",
       "- ───────────────────────────────── + ⎜─────── - 1⎟⋅──────(t(\\tau)) = 0\n",
       "                2                     ⎝r(\\tau)    ⎠      2             \n",
       "               r (\\tau)                             d\\tau              "
      ]
     },
     "execution_count": 90,
     "metadata": {},
     "output_type": "execute_result"
    }
   ],
   "source": [
    "expression.subs((m,5),(tau,6))\n"
   ]
  },
  {
   "cell_type": "code",
   "execution_count": 97,
   "metadata": {
    "collapsed": false
   },
   "outputs": [
    {
     "data": {
      "image/png": "[encoded data removed]",
      "text/latex": [
       "$$\\left [ \\frac{2 M \\frac{d}{d \\tau} r{\\left (\\tau \\right )} \\frac{d}{d \\tau} t{\\left (\\tau \\right )}}{\\left(2 M - r{\\left (\\tau \\right )}\\right) r{\\left (\\tau \\right )}}\\right ]$$"
      ],
      "text/plain": [
       "⎡      d              d           ⎤\n",
       "⎢2⋅M⋅─────(r(\\tau))⋅─────(t(\\tau))⎥\n",
       "⎢    d\\tau          d\\tau         ⎥\n",
       "⎢─────────────────────────────────⎥\n",
       "⎣     (2⋅M - r(\\tau))⋅r(\\tau)     ⎦"
      ]
     },
     "execution_count": 97,
     "metadata": {},
     "output_type": "execute_result"
    }
   ],
   "source": [
    "sympy.solve(sympy.Eq(w(1),0),sympy.Derivative(t(tau),tau,tau))"
   ]
  },
  {
   "cell_type": "code",
   "execution_count": 107,
   "metadata": {
    "collapsed": false,
    "deletable": true,
    "editable": true
   },
   "outputs": [
    {
     "data": {
      "image/png": "[encoded data removed]",
      "text/latex": [
       "$$\\left [ \\frac{2 M^{2} \\frac{d}{d \\tau} t{\\left (\\tau \\right )}^{2}}{r^{3}{\\left (\\tau \\right )}} - \\frac{2 M^{2} \\frac{d}{d \\tau} r{\\left (\\tau \\right )}^{2}}{\\left(2 M - r{\\left (\\tau \\right )}\\right)^{2} r{\\left (\\tau \\right )}} - 2 M \\frac{d}{d \\tau} \\phi{\\left (\\tau \\right )}^{2} - 2 M \\frac{d}{d \\tau} \\theta{\\left (\\tau \\right )}^{2} - \\frac{M \\frac{d}{d \\tau} t{\\left (\\tau \\right )}^{2}}{r^{2}{\\left (\\tau \\right )}} + \\frac{M \\frac{d}{d \\tau} r{\\left (\\tau \\right )}^{2}}{\\left(2 M - r{\\left (\\tau \\right )}\\right)^{2}} + r{\\left (\\tau \\right )} \\frac{d}{d \\tau} \\phi{\\left (\\tau \\right )}^{2} + r{\\left (\\tau \\right )} \\frac{d}{d \\tau} \\theta{\\left (\\tau \\right )}^{2}\\right ]$$"
      ],
      "text/plain": [
       "⎡                     2                         2                             \n",
       "⎢   2 ⎛  d           ⎞        2 ⎛  d           ⎞                              \n",
       "⎢2⋅M ⋅⎜─────(t(\\tau))⎟     2⋅M ⋅⎜─────(r(\\tau))⎟                            2 \n",
       "⎢     ⎝d\\tau         ⎠          ⎝d\\tau         ⎠         ⎛  d              ⎞  \n",
       "⎢────────────────────── - ──────────────────────── - 2⋅M⋅⎜─────(\\phi(\\tau))⎟  \n",
       "⎢        3                               2               ⎝d\\tau            ⎠  \n",
       "⎣       r (\\tau)          (2⋅M - r(\\tau)) ⋅r(\\tau)                            \n",
       "\n",
       "                                                 2                     2      \n",
       "                                 ⎛  d           ⎞      ⎛  d           ⎞       \n",
       "                           2   M⋅⎜─────(t(\\tau))⎟    M⋅⎜─────(r(\\tau))⎟       \n",
       "      ⎛  d                ⎞      ⎝d\\tau         ⎠      ⎝d\\tau         ⎠       \n",
       "- 2⋅M⋅⎜─────(\\theta(\\tau))⎟  - ─────────────────── + ─────────────────── + r(\\\n",
       "      ⎝d\\tau              ⎠           2                               2       \n",
       "                                     r (\\tau)          (2⋅M - r(\\tau))        \n",
       "\n",
       "                                                          ⎤\n",
       "                                                          ⎥\n",
       "                        2                                2⎥\n",
       "     ⎛  d              ⎞            ⎛  d                ⎞ ⎥\n",
       "tau)⋅⎜─────(\\phi(\\tau))⎟  + r(\\tau)⋅⎜─────(\\theta(\\tau))⎟ ⎥\n",
       "     ⎝d\\tau            ⎠            ⎝d\\tau              ⎠ ⎥\n",
       "                                                          ⎦"
      ]
     },
     "execution_count": 107,
     "metadata": {},
     "output_type": "execute_result"
    }
   ],
   "source": [
    "sympy.solve(sympy.Eq(w(2),0),sympy.Derivative(r(tau),tau,tau))"
   ]
  },
  {
   "cell_type": "code",
   "execution_count": 108,
   "metadata": {
    "collapsed": true
   },
   "outputs": [],
   "source": [
    "def lamb(func,symb=t):\n",
    "    #arglist = (m,t,r,phi,theta,sympy.Derivative(t(tau),tau),sympy.Derivative(r(tau),tau),sympy.Derivative(phi(tau),tau),sympy.Derivative(theta(tau),tau))\n",
    "    arglist = (m,t,r,phi,theta,A,B,C)\n",
    "    eq = sympy.solve(sympy.Eq(func,0),sympy.Derivative(symb(tau),tau,tau))[0]\n",
    "    return lambdify(arglist, eq, modules=\"numpy\")"
   ]
  },
  {
   "cell_type": "code",
   "execution_count": 109,
   "metadata": {
    "collapsed": false
   },
   "outputs": [
    {
     "ename": "NameError",
     "evalue": "global name 'A' is not defined",
     "output_type": "error",
     "traceback": [
      "\u001b[0;31m---------------------------------------------------------------------------\u001b[0m",
      "\u001b[0;31mNameError\u001b[0m                                 Traceback (most recent call last)",
      "\u001b[0;32m<ipython-input-109-8f09d061cdc8>\u001b[0m in \u001b[0;36m<module>\u001b[0;34m()\u001b[0m\n\u001b[0;32m----> 1\u001b[0;31m \u001b[0mw1\u001b[0m \u001b[0;34m=\u001b[0m \u001b[0mlamb\u001b[0m\u001b[0;34m(\u001b[0m\u001b[0mw\u001b[0m\u001b[0;34m(\u001b[0m\u001b[0;36m1\u001b[0m\u001b[0;34m)\u001b[0m\u001b[0;34m,\u001b[0m\u001b[0mt\u001b[0m\u001b[0;34m)\u001b[0m\u001b[0;34m\u001b[0m\u001b[0m\n\u001b[0m",
      "\u001b[0;32m<ipython-input-108-67e2b00c595e>\u001b[0m in \u001b[0;36mlamb\u001b[0;34m(func, symb)\u001b[0m\n\u001b[1;32m      1\u001b[0m \u001b[0;32mdef\u001b[0m \u001b[0mlamb\u001b[0m\u001b[0;34m(\u001b[0m\u001b[0mfunc\u001b[0m\u001b[0;34m,\u001b[0m\u001b[0msymb\u001b[0m\u001b[0;34m=\u001b[0m\u001b[0mt\u001b[0m\u001b[0;34m)\u001b[0m\u001b[0;34m:\u001b[0m\u001b[0;34m\u001b[0m\u001b[0m\n\u001b[1;32m      2\u001b[0m     \u001b[0;31m#arglist = (m,t,r,phi,theta,sympy.Derivative(t(tau),tau),sympy.Derivative(r(tau),tau),sympy.Derivative(phi(tau),tau),sympy.Derivative(theta(tau),tau))\u001b[0m\u001b[0;34m\u001b[0m\u001b[0;34m\u001b[0m\u001b[0m\n\u001b[0;32m----> 3\u001b[0;31m     \u001b[0marglist\u001b[0m \u001b[0;34m=\u001b[0m \u001b[0;34m(\u001b[0m\u001b[0mm\u001b[0m\u001b[0;34m,\u001b[0m\u001b[0mt\u001b[0m\u001b[0;34m,\u001b[0m\u001b[0mr\u001b[0m\u001b[0;34m,\u001b[0m\u001b[0mphi\u001b[0m\u001b[0;34m,\u001b[0m\u001b[0mtheta\u001b[0m\u001b[0;34m,\u001b[0m\u001b[0mA\u001b[0m\u001b[0;34m,\u001b[0m\u001b[0mB\u001b[0m\u001b[0;34m,\u001b[0m\u001b[0mC\u001b[0m\u001b[0;34m)\u001b[0m\u001b[0;34m\u001b[0m\u001b[0m\n\u001b[0m\u001b[1;32m      4\u001b[0m     \u001b[0meq\u001b[0m \u001b[0;34m=\u001b[0m \u001b[0msympy\u001b[0m\u001b[0;34m.\u001b[0m\u001b[0msolve\u001b[0m\u001b[0;34m(\u001b[0m\u001b[0msympy\u001b[0m\u001b[0;34m.\u001b[0m\u001b[0mEq\u001b[0m\u001b[0;34m(\u001b[0m\u001b[0mfunc\u001b[0m\u001b[0;34m,\u001b[0m\u001b[0;36m0\u001b[0m\u001b[0;34m)\u001b[0m\u001b[0;34m,\u001b[0m\u001b[0msympy\u001b[0m\u001b[0;34m.\u001b[0m\u001b[0mDerivative\u001b[0m\u001b[0;34m(\u001b[0m\u001b[0msymb\u001b[0m\u001b[0;34m(\u001b[0m\u001b[0mtau\u001b[0m\u001b[0;34m)\u001b[0m\u001b[0;34m,\u001b[0m\u001b[0mtau\u001b[0m\u001b[0;34m,\u001b[0m\u001b[0mtau\u001b[0m\u001b[0;34m)\u001b[0m\u001b[0;34m)\u001b[0m\u001b[0;34m[\u001b[0m\u001b[0;36m0\u001b[0m\u001b[0;34m]\u001b[0m\u001b[0;34m\u001b[0m\u001b[0m\n\u001b[1;32m      5\u001b[0m     \u001b[0;32mreturn\u001b[0m \u001b[0mlambdify\u001b[0m\u001b[0;34m(\u001b[0m\u001b[0marglist\u001b[0m\u001b[0;34m,\u001b[0m \u001b[0meq\u001b[0m\u001b[0;34m,\u001b[0m \u001b[0mmodules\u001b[0m\u001b[0;34m=\u001b[0m\u001b[0;34m\"numpy\"\u001b[0m\u001b[0;34m)\u001b[0m\u001b[0;34m\u001b[0m\u001b[0m\n",
      "\u001b[0;31mNameError\u001b[0m: global name 'A' is not defined"
     ]
    }
   ],
   "source": [
    "w1 = lamb(w(1),t)"
   ]
  },
  {
   "cell_type": "code",
   "execution_count": 122,
   "metadata": {
    "collapsed": false
   },
   "outputs": [
    {
     "data": {
      "image/png": "[encoded data removed]",
      "text/latex": [
       "$$- \\frac{280}{9}$$"
      ],
      "text/plain": [
       "-280/9"
      ]
     },
     "execution_count": 122,
     "metadata": {},
     "output_type": "execute_result"
    }
   ],
   "source": [
    "sympy.solve(w(1),sympy.Derivative(t(tau),tau,tau))[0].subs({sympy.Derivative(t(tau),tau):2,sympy.Derivative(t(tau),tau):3,sympy.Derivative(r(tau),tau):5,sympy.Derivative(t(tau),tau):7,t(tau):8,r(tau):9,phi(tau):2,theta(tau):3,m:4})"
   ]
  },
  {
   "cell_type": "code",
   "execution_count": 136,
   "metadata": {
    "collapsed": false
   },
   "outputs": [
    {
     "data": {
      "image/png": "[encoded data removed]",
      "text/latex": [
       "$$r^{2}{\\left (\\tau \\right )} \\frac{d^{2}}{d \\tau^{2}}  \\theta{\\left (\\tau \\right )} + 2 r{\\left (\\tau \\right )} \\frac{d}{d \\tau} \\theta{\\left (\\tau \\right )} \\frac{d}{d \\tau} r{\\left (\\tau \\right )}$$"
      ],
      "text/plain": [
       "            2                                                               \n",
       " 2         d                                d                   d           \n",
       "r (\\tau)⋅──────(\\theta(\\tau)) + 2⋅r(\\tau)⋅─────(\\theta(\\tau))⋅─────(r(\\tau))\n",
       "              2                           d\\tau               d\\tau         \n",
       "         d\\tau                                                              "
      ]
     },
     "execution_count": 136,
     "metadata": {},
     "output_type": "execute_result"
    }
   ],
   "source": [
    "w(3)"
   ]
  },
  {
   "cell_type": "code",
   "execution_count": 138,
   "metadata": {
    "collapsed": false,
    "deletable": true,
    "editable": true
   },
   "outputs": [],
   "source": [
    "array = np.zeros(9)\n",
    "d2t = lambda x: sympy.solve(w(1),sympy.Derivative(t(tau),tau,tau))[0].subs({sympy.Derivative(t(tau),tau):x[0],sympy.Derivative(r(tau),tau):x[1],sympy.Derivative(phi(tau),tau):x[2],sympy.Derivative(theta(tau),tau):x[3],t(tau):x[4],r(tau):x[5],phi(tau):x[6],theta(tau):x[7],m:x[8]})\n",
    "d2r = lambda x: sympy.solve(w(2),sympy.Derivative(r(tau),tau,tau))[0].subs({sympy.Derivative(t(tau),tau):x[0],sympy.Derivative(r(tau),tau):x[1],sympy.Derivative(phi(tau),tau):x[2],sympy.Derivative(theta(tau),tau):x[3],t(tau):x[4],r(tau):x[5],phi(tau):x[6],theta(tau):x[7],m:x[8]})\n",
    "d2phi = lambda x: sympy.solve(w(3),sympy.Derivative(theta(tau),tau,tau))[0].subs({sympy.Derivative(t(tau),tau):x[0],sympy.Derivative(r(tau),tau):x[1],sympy.Derivative(phi(tau),tau):x[2],sympy.Derivative(theta(tau),tau):x[3],t(tau):x[4],r(tau):x[5],phi(tau):x[6],theta(tau):x[7],m:x[8]})\n",
    "d2theta = lambda x: sympy.solve(w(4),sympy.Derivative(phi(tau),tau,tau))[0].subs({sympy.Derivative(t(tau),tau):x[0],sympy.Derivative(r(tau),tau):x[1],sympy.Derivative(phi(tau),tau):x[2],sympy.Derivative(theta(tau),tau):x[3],t(tau):x[4],r(tau):x[5],phi(tau):x[6],theta(tau):x[7],m:x[8]})"
   ]
  },
  {
   "cell_type": "code",
   "execution_count": 139,
   "metadata": {
    "collapsed": false,
    "deletable": true,
    "editable": true
   },
   "outputs": [
    {
     "name": "stdout",
     "output_type": "stream",
     "text": [
      "1/2\n",
      "-300\n",
      "-8/3\n",
      "-2\n"
     ]
    }
   ],
   "source": [
    "print d2t([1,2,3,4,5,6,7,8,9])\n",
    "print d2r([1,2,3,4,5,6,7,8,9])\n",
    "print d2phi([1,2,3,4,5,6,7,8,9])\n",
    "print d2theta([1,2,3,4,5,6,7,8,9])"
   ]
  },
  {
   "cell_type": "code",
   "execution_count": 137,
   "metadata": {
    "collapsed": false,
    "deletable": true,
    "editable": true
   },
   "outputs": [
    {
     "data": {
      "image/png": "[encoded data removed]",
      "text/latex": [
       "$$\\left [ - \\frac{2 \\frac{d}{d \\tau} \\theta{\\left (\\tau \\right )}}{r{\\left (\\tau \\right )}} \\frac{d}{d \\tau} r{\\left (\\tau \\right )}\\right ]$$"
      ],
      "text/plain": [
       "⎡     d                   d            ⎤\n",
       "⎢-2⋅─────(\\theta(\\tau))⋅─────(r(\\tau)) ⎥\n",
       "⎢   d\\tau               d\\tau          ⎥\n",
       "⎢──────────────────────────────────────⎥\n",
       "⎣               r(\\tau)                ⎦"
      ]
     },
     "execution_count": 137,
     "metadata": {},
     "output_type": "execute_result"
    }
   ],
   "source": [
    "sympy.solve(w(3),sympy.Derivative(theta(tau),tau,tau))"
   ]
  },
  {
   "cell_type": "code",
   "execution_count": null,
   "metadata": {
    "collapsed": false,
    "deletable": true,
    "editable": true
   },
   "outputs": [],
   "source": [
    "def geo(x, tau):\n",
    "    '''\n",
    "    x[0] = t\n",
    "    x[1] = r\n",
    "    x[2] = phi\n",
    "    x[3] = theta\n",
    "    x[4] = dt dtau\n",
    "    x[5] = dr dtau\n",
    "    x[6] = dphi dtau\n",
    "    x[7] = dtheta dtau\n",
    "    '''\n",
    "    M=5\n",
    "    dxdtau = np.zeros_like(x)\n",
    "    dxdtau[0] = x[4]\n",
    "    dxdtau[1] = x[5]\n",
    "    dxdtau[2] = x[6]\n",
    "    dxdtau[3] = x[7]\n",
    "    dxdtau[4] = d2t(np.append(x, M))\n",
    "    dxdtau[5] = d2r(np.append(x, M))\n",
    "    dxdtau[6] = d2phi(np.append(x, M))\n",
    "    dxdtau[7] = d2theta(np.append(x, M))\n",
    "    return dxdtau"
   ]
  },
  {
   "cell_type": "code",
   "execution_count": null,
   "metadata": {
    "collapsed": false,
    "deletable": true,
    "editable": true
   },
   "outputs": [],
   "source": [
    "tau = np.linspace(0,100)\n",
    "x = "
   ]
  },
  {
   "cell_type": "code",
   "execution_count": null,
   "metadata": {
    "collapsed": false,
    "deletable": true,
    "editable": true
   },
   "outputs": [],
   "source": []
  },
  {
   "cell_type": "code",
   "execution_count": null,
   "metadata": {
    "collapsed": true,
    "deletable": true,
    "editable": true
   },
   "outputs": [],
   "source": []
  }
 ],
 "metadata": {
  "kernelspec": {
   "display_name": "Python 2",
   "language": "python",
   "name": "python2"
  },
  "language_info": {
   "codemirror_mode": {
    "name": "ipython",
    "version": 2
   },
   "file_extension": ".py",
   "mimetype": "text/x-python",
   "name": "python",
   "nbconvert_exporter": "python",
   "pygments_lexer": "ipython2",
   "version": "2.7.10"
  }
 },
 "nbformat": 4,
 "nbformat_minor": 2
}
