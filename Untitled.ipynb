{
 "cells": [
  {
   "cell_type": "code",
   "execution_count": 1,
   "metadata": {
    "collapsed": false
   },
   "outputs": [],
   "source": [
    "%matplotlib inline\n",
    "from __future__ import division\n",
    "import gravipy as gp\n",
    "import numpy as np\n",
    "import matplotlib.pyplot as plt\n",
    "from scipy.integrate import odeint\n",
    "from sympy import lambdify, N, Function, Derivative, solve\n",
    "from sympy.abc import a,b,c,d,e,f,g,h,i,j,k\n",
    "from sympy.utilities.lambdify import lambdify, implemented_function\n",
    "gp.init_printing()\n"
   ]
  },
  {
   "cell_type": "code",
   "execution_count": 2,
   "metadata": {
    "collapsed": true
   },
   "outputs": [],
   "source": [
    "rs_earth = 8.87e-3 #kilograms\n",
    "rs = 1 * rs_earth\n",
    "# m = m*m_earth\n",
    "\n",
    "t,r,theta,phi,tau = gp.symbols('t r \\\\theta \\phi \\\\tau')\n",
    "coordinates = gp.Coordinates('\\chi', [t, r, theta, phi])\n",
    "# Metric2D = gp.diag(-(1-rs/r),1/(1-rs/r),r**2,r**2)\n",
    "Metric2D = gp.diag(-1,1,r**2,r**2)\n",
    "gtensor = gp.MetricTensor('g', coordinates, Metric2D)\n",
    "w = gp.Geodesic('w', gtensor, tau)"
   ]
  },
  {
   "cell_type": "code",
   "execution_count": 3,
   "metadata": {
    "collapsed": false
   },
   "outputs": [
    {
     "data": {
      "image/png": "[encoded data removed]",
      "text/latex": [
       "$$0$$"
      ],
      "text/plain": [
       "0"
      ]
     },
     "execution_count": 3,
     "metadata": {},
     "output_type": "execute_result"
    }
   ],
   "source": [
    "d2t = solve(w(1),Derivative(t(tau),tau,tau))[0].subs({Derivative(t(tau),tau):a,Derivative(r(tau),tau):b,Derivative(theta(tau),tau):c,Derivative(phi(tau),tau):d,t(tau):e,r(tau):f,theta(tau):g,phi(tau):h})\n",
    "solve(w(1),Derivative(t(tau),tau,tau))[0].subs({Derivative(t(tau),tau):a,Derivative(r(tau),tau):b,Derivative(theta(tau),tau):c,Derivative(phi(tau),tau):d,t(tau):e,r(tau):f,theta(tau):g,phi(tau):h})"
   ]
  },
  {
   "cell_type": "code",
   "execution_count": 4,
   "metadata": {
    "collapsed": false
   },
   "outputs": [
    {
     "data": {
      "image/png": "[encoded data removed]",
      "text/latex": [
       "$$0$$"
      ],
      "text/plain": [
       "0"
      ]
     },
     "execution_count": 4,
     "metadata": {},
     "output_type": "execute_result"
    }
   ],
   "source": [
    "d2r = solve(w(1),Derivative(t(tau),tau,tau))[0].subs({Derivative(t(tau),tau):a,Derivative(r(tau),tau):b,Derivative(theta(tau),tau):c,Derivative(phi(tau),tau):d,t(tau):e,r(tau):f,theta(tau):g,phi(tau):h})\n",
    "solve(w(1),Derivative(t(tau),tau,tau))[0].subs({Derivative(t(tau),tau):a,Derivative(r(tau),tau):b,Derivative(theta(tau),tau):c,Derivative(phi(tau),tau):d,t(tau):e,r(tau):f,theta(tau):g,phi(tau):h})"
   ]
  },
  {
   "cell_type": "code",
   "execution_count": 5,
   "metadata": {
    "collapsed": false
   },
   "outputs": [
    {
     "data": {
      "image/png": "[encoded data removed]",
      "text/latex": [
       "$$- \\frac{2 b}{f} c$$"
      ],
      "text/plain": [
       "-2⋅b⋅c \n",
       "───────\n",
       "   f   "
      ]
     },
     "execution_count": 5,
     "metadata": {},
     "output_type": "execute_result"
    }
   ],
   "source": [
    "d2theta = solve(w(3),Derivative(theta(tau),tau,tau))[0].subs({Derivative(t(tau),tau):a,Derivative(r(tau),tau):b,Derivative(theta(tau),tau):c,Derivative(phi(tau),tau):d,t(tau):e,r(tau):f,theta(tau):g,phi(tau):h})\n",
    "solve(w(3),Derivative(theta(tau),tau,tau))[0].subs({Derivative(t(tau),tau):a,Derivative(r(tau),tau):b,Derivative(theta(tau),tau):c,Derivative(phi(tau),tau):d,t(tau):e,r(tau):f,theta(tau):g,phi(tau):h})"
   ]
  },
  {
   "cell_type": "code",
   "execution_count": 6,
   "metadata": {
    "collapsed": false
   },
   "outputs": [
    {
     "data": {
      "image/png": "[encoded data removed]",
      "text/latex": [
       "$$- \\frac{2 b}{f} d$$"
      ],
      "text/plain": [
       "-2⋅b⋅d \n",
       "───────\n",
       "   f   "
      ]
     },
     "execution_count": 6,
     "metadata": {},
     "output_type": "execute_result"
    }
   ],
   "source": [
    "d2phi = solve(w(4),Derivative(phi(tau),tau,tau))[0].subs({Derivative(t(tau),tau):a,Derivative(r(tau),tau):b,Derivative(theta(tau),tau):c,Derivative(phi(tau),tau):d,t(tau):e,r(tau):f,theta(tau):g,phi(tau):h})\n",
    "solve(w(4),Derivative(phi(tau),tau,tau))[0].subs({Derivative(t(tau),tau):a,Derivative(r(tau),tau):b,Derivative(theta(tau),tau):c,Derivative(phi(tau),tau):d,t(tau):e,r(tau):f,theta(tau):g,phi(tau):h})"
   ]
  },
  {
   "cell_type": "code",
   "execution_count": 7,
   "metadata": {
    "collapsed": false
   },
   "outputs": [],
   "source": [
    "lambda_d2t = lambda a_,b_,c_,d_,e_,f_,g_,h_: d2t.subs({a:a_,b:b_,c:c_,d:d_,e:e_,f:f_,g:g_,h:h_})\n",
    "lambda_d2r = lambda a_,b_,c_,d_,e_,f_,g_,h_: d2r.subs({a:a_,b:b_,c:c_,d:d_,e:e_,f:f_,g:g_,h:h_})\n",
    "lambda_d2theta = lambda a_,b_,c_,d_,e_,f_,g_,h_: d2theta.subs({a:a_,b:b_,c:c_,d:d_,e:e_,f:f_,g:g_,h:h_})\n",
    "lambda_d2phi = lambda a_,b_,c_,d_,e_,f_,g_,h_: d2phi.subs({a:a_,b:b_,c:c_,d:d_,e:e_,f:f_,g:g_,h:h_})"
   ]
  },
  {
   "cell_type": "code",
   "execution_count": 8,
   "metadata": {
    "collapsed": false
   },
   "outputs": [
    {
     "name": "stdout",
     "output_type": "stream",
     "text": [
      "0.0\n",
      "0.0\n",
      "-2.0\n",
      "-2.66666666667\n"
     ]
    }
   ],
   "source": [
    "func_d2t = implemented_function(Function('d2t'), lambda_d2t)\n",
    "func_d2t = lambdify((a,b,c,d,e,f,g,h), func_d2t(a,b,c,d,e,f,g,h), modules='numpy')\n",
    "\n",
    "func_d2r = implemented_function(Function('d2r'), lambda_d2r)\n",
    "func_d2r = lambdify((a,b,c,d,e,f,g,h), func_d2r(a,b,c,d,e,f,g,h), modules='numpy')\n",
    "\n",
    "func_d2theta = implemented_function(Function('d2theta'), lambda_d2theta)\n",
    "func_d2theta = lambdify((a,b,c,d,e,f,g,h), func_d2theta(a,b,c,d,e,f,g,h), modules='numpy')\n",
    "\n",
    "func_d2phi = implemented_function(Function('d2phi'), lambda_d2phi)\n",
    "func_d2phi = lambdify((a,b,c,d,e,f,g,h), func_d2phi(a,b,c,d,e,f,g,h), modules='numpy')\n",
    "\n",
    "x = (1,2,3,4,5,6,7,8)\n",
    "\n",
    "print float(func_d2t(*x))\n",
    "print float(func_d2r(*x))\n",
    "print float(func_d2theta(*x))\n",
    "print float(func_d2phi(*x))\n"
   ]
  },
  {
   "cell_type": "code",
   "execution_count": 10,
   "metadata": {
    "collapsed": false
   },
   "outputs": [
    {
     "name": "stdout",
     "output_type": "stream",
     "text": [
      "[[ 0.          1.          1.57079633  0.          1.          0.          0.\n",
      "   1.        ]\n",
      " [ 0.          1.                 nan  0.          1.          0.\n",
      "          nan  1.        ]\n",
      " [ 0.          1.                 nan  0.          1.          0.\n",
      "          nan  1.        ]\n",
      " [ 0.          0.          0.          0.          0.          0.          0.\n",
      "   0.        ]\n",
      " [ 0.          0.          0.          0.          0.          0.          0.\n",
      "   0.        ]\n",
      " [ 0.          0.          0.          0.          0.          0.          0.\n",
      "   0.        ]\n",
      " [ 0.          0.          0.          0.          0.          0.          0.\n",
      "   0.        ]\n",
      " [ 0.          0.          0.          0.          0.          0.          0.\n",
      "   0.        ]\n",
      " [ 0.          0.          0.          0.          0.          0.          0.\n",
      "   0.        ]\n",
      " [ 0.          0.          0.          0.          0.          0.          0.\n",
      "   0.        ]\n",
      " [ 0.          0.          0.          0.          0.          0.          0.\n",
      "   0.        ]\n",
      " [ 0.          0.          0.          0.          0.          0.          0.\n",
      "   0.        ]\n",
      " [ 0.          0.          0.          0.          0.          0.          0.\n",
      "   0.        ]\n",
      " [ 0.          0.          0.          0.          0.          0.          0.\n",
      "   0.        ]\n",
      " [ 0.          0.          0.          0.          0.          0.          0.\n",
      "   0.        ]\n",
      " [ 0.          0.          0.          0.          0.          0.          0.\n",
      "   0.        ]\n",
      " [ 0.          0.          0.          0.          0.          0.          0.\n",
      "   0.        ]\n",
      " [ 0.          0.          0.          0.          0.          0.          0.\n",
      "   0.        ]\n",
      " [ 0.          0.          0.          0.          0.          0.          0.\n",
      "   0.        ]\n",
      " [ 0.          0.          0.          0.          0.          0.          0.\n",
      "   0.        ]\n",
      " [ 0.          0.          0.          0.          0.          0.          0.\n",
      "   0.        ]\n",
      " [ 0.          0.          0.          0.          0.          0.          0.\n",
      "   0.        ]\n",
      " [ 0.          0.          0.          0.          0.          0.          0.\n",
      "   0.        ]\n",
      " [ 0.          0.          0.          0.          0.          0.          0.\n",
      "   0.        ]\n",
      " [ 0.          0.          0.          0.          0.          0.          0.\n",
      "   0.        ]\n",
      " [ 0.          0.          0.          0.          0.          0.          0.\n",
      "   0.        ]\n",
      " [ 0.          0.          0.          0.          0.          0.          0.\n",
      "   0.        ]\n",
      " [ 0.          0.          0.          0.          0.          0.          0.\n",
      "   0.        ]\n",
      " [ 0.          0.          0.          0.          0.          0.          0.\n",
      "   0.        ]\n",
      " [ 0.          0.          0.          0.          0.          0.          0.\n",
      "   0.        ]\n",
      " [ 0.          0.          0.          0.          0.          0.          0.\n",
      "   0.        ]\n",
      " [ 0.          0.          0.          0.          0.          0.          0.\n",
      "   0.        ]\n",
      " [ 0.          0.          0.          0.          0.          0.          0.\n",
      "   0.        ]\n",
      " [ 0.          0.          0.          0.          0.          0.          0.\n",
      "   0.        ]\n",
      " [ 0.          0.          0.          0.          0.          0.          0.\n",
      "   0.        ]\n",
      " [ 0.          0.          0.          0.          0.          0.          0.\n",
      "   0.        ]\n",
      " [ 0.          0.          0.          0.          0.          0.          0.\n",
      "   0.        ]\n",
      " [ 0.          0.          0.          0.          0.          0.          0.\n",
      "   0.        ]\n",
      " [ 0.          0.          0.          0.          0.          0.          0.\n",
      "   0.        ]\n",
      " [ 0.          0.          0.          0.          0.          0.          0.\n",
      "   0.        ]\n",
      " [ 0.          0.          0.          0.          0.          0.          0.\n",
      "   0.        ]\n",
      " [ 0.          0.          0.          0.          0.          0.          0.\n",
      "   0.        ]\n",
      " [ 0.          0.          0.          0.          0.          0.          0.\n",
      "   0.        ]\n",
      " [ 0.          0.          0.          0.          0.          0.          0.\n",
      "   0.        ]\n",
      " [ 0.          0.          0.          0.          0.          0.          0.\n",
      "   0.        ]\n",
      " [ 0.          0.          0.          0.          0.          0.          0.\n",
      "   0.        ]\n",
      " [ 0.          0.          0.          0.          0.          0.          0.\n",
      "   0.        ]\n",
      " [ 0.          0.          0.          0.          0.          0.          0.\n",
      "   0.        ]\n",
      " [ 0.          0.          0.          0.          0.          0.          0.\n",
      "   0.        ]\n",
      " [ 0.          0.          0.          0.          0.          0.          0.\n",
      "   0.        ]]\n"
     ]
    },
    {
     "name": "stderr",
     "output_type": "stream",
     "text": [
      "/Users/michiotanaka/Library/Enthought/Canopy_64bit/User/lib/python2.7/site-packages/scipy/integrate/odepack.py:156: ODEintWarning: Illegal input detected (internal error). Run with full_output = 1 to get quantitative information.\n",
      "  warnings.warn(warning_msg, ODEintWarning)\n"
     ]
    },
    {
     "data": {
      "image/png": "[encoded data removed]",
      "text/plain": [
       "<matplotlib.figure.Figure at 0x10e092990>"
      ]
     },
     "metadata": {},
     "output_type": "display_data"
    }
   ],
   "source": [
    "r_earth = 150e9 #meters\n",
    "t_earth = 3e7 * 3e8 #seconds\n",
    "drdtau_earth = 9e-2 #meters per second\n",
    "dphidtau_earth = 7.3e-5 #radians per secong\n",
    "\n",
    "\n",
    "def geo(x, tau):\n",
    "    '''\n",
    "    x[0] = t\n",
    "    x[1] = r\n",
    "    x[2] = theta\n",
    "    x[3] = phi\n",
    "    x[4] = dt dtau\n",
    "    x[5] = dr dtau\n",
    "    x[6] = dtheta dtau\n",
    "    x[7] = dphi dtau\n",
    "    '''\n",
    "    dxdtau = np.zeros_like(x)\n",
    "\n",
    "    dxdtau[0] = x[4]\n",
    "    dxdtau[1] = x[5]\n",
    "    dxdtau[2] = x[6]\n",
    "    dxdtau[3] = x[7]\n",
    "    dxdtau[4] = float(func_d2t(*x))\n",
    "    dxdtau[5] = float(func_d2r(*x))\n",
    "    dxdtau[6] = float(func_d2theta(*x))\n",
    "    dxdtau[7] = float(func_d2phi(*x))\n",
    "    return dxdtau\n",
    "\n",
    "x0_ = np.array([\n",
    "        0,\n",
    "        1 ,\n",
    "        np.pi/2,\n",
    "        0,\n",
    "        1,\n",
    "        0,\n",
    "        0,\n",
    "        1\n",
    "    ])\n",
    "\n",
    "\n",
    "tau_ = np.linspace(0,1)\n",
    "x_ = odeint(geo, x0_, tau_)\n",
    "\n",
    "print x_\n",
    "ax = plt.subplot(111, projection='polar')\n",
    "ax.plot(x_[:,3], x_[:,1])\n",
    "plt.show()"
   ]
  },
  {
   "cell_type": "code",
   "execution_count": null,
   "metadata": {
    "collapsed": true
   },
   "outputs": [],
   "source": []
  }
 ],
 "metadata": {
  "kernelspec": {
   "display_name": "Python 2",
   "language": "python",
   "name": "python2"
  },
  "language_info": {
   "codemirror_mode": {
    "name": "ipython",
    "version": 2
   },
   "file_extension": ".py",
   "mimetype": "text/x-python",
   "name": "python",
   "nbconvert_exporter": "python",
   "pygments_lexer": "ipython2",
   "version": "2.7.10"
  }
 },
 "nbformat": 4,
 "nbformat_minor": 0
}
