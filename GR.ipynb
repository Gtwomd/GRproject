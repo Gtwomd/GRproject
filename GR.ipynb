{
 "cells": [
  {
   "cell_type": "code",
   "execution_count": null,
   "metadata": {
    "collapsed": false,
    "deletable": true,
    "editable": true
   },
   "outputs": [],
   "source": [
    "import gravipy\n",
    "import numpy as np\n",
    "import matplotlib.pyplot as plt\n",
    "import sympy\n",
    "from sympy import lambdify\n",
    "from sympy.abc import a,b,c,d\n",
    "from scipy.integrate import odeint\n",
    "%matplotlib inline\n",
    "gravipy.init_printing()"
   ]
  },
  {
   "cell_type": "code",
   "execution_count": 2,
   "metadata": {
    "collapsed": true,
    "deletable": true,
    "editable": true
   },
   "outputs": [],
   "source": [
    "t, r,theta,phi,tau = gravipy.symbols('t r \\\\theta \\phi \\\\tau')"
   ]
  },
  {
   "cell_type": "code",
   "execution_count": 3,
   "metadata": {
    "collapsed": false,
    "deletable": true,
    "editable": true
   },
   "outputs": [],
   "source": [
    "m=2e30\n",
    "x = gravipy.Coordinates('\\chi', [t, r, theta, phi])\n",
    "Metric = gravipy.diag(-(1-2*m/r), 1/(1-2*m/r), r**2, r**2*gravipy.sin(theta)**2)\n",
    "Metric2D = gravipy.diag(-(1-2*m/r), 1/(1-2*m/r), r**2, r**2)\n",
    "Metric_weak = gravipy.diag(-(1+2*m/r), (1+2*m/r), (1+2*m/r), (1+2*m/r))"
   ]
  },
  {
   "cell_type": "code",
   "execution_count": 4,
   "metadata": {
    "collapsed": false,
    "deletable": true,
    "editable": true
   },
   "outputs": [],
   "source": [
    "g = gravipy.MetricTensor('g', x, Metric2D)\n"
   ]
  },
  {
   "cell_type": "code",
   "execution_count": 5,
   "metadata": {
    "collapsed": false,
    "deletable": true,
    "editable": true
   },
   "outputs": [
    {
     "data": {
      "image/png": "[encoded data removed]",
      "text/latex": [
       "$$\\left[\\begin{matrix}\\left(-1 + \\frac{4.0 \\cdot 10^{30}}{r{\\left (\\tau \\right )}}\\right) \\frac{d^{2}}{d \\tau^{2}}  t{\\left (\\tau \\right )} - \\frac{4.0 \\cdot 10^{30}}{r^{2}{\\left (\\tau \\right )}} \\frac{d}{d \\tau} r{\\left (\\tau \\right )} \\frac{d}{d \\tau} t{\\left (\\tau \\right )} & - r{\\left (\\tau \\right )} \\frac{d}{d \\tau} \\phi{\\left (\\tau \\right )}^{2} - r{\\left (\\tau \\right )} \\frac{d}{d \\tau} \\theta{\\left (\\tau \\right )}^{2} + \\frac{2.0 \\cdot 10^{30}}{r^{2}{\\left (\\tau \\right )}} \\frac{d}{d \\tau} t{\\left (\\tau \\right )}^{2} + \\frac{\\frac{d^{2}}{d \\tau^{2}}  r{\\left (\\tau \\right )}}{1 - \\frac{4.0 \\cdot 10^{30}}{r{\\left (\\tau \\right )}}} - \\frac{2.0 \\cdot 10^{30} \\frac{d}{d \\tau} r{\\left (\\tau \\right )}^{2}}{\\left(1 - \\frac{4.0 \\cdot 10^{30}}{r{\\left (\\tau \\right )}}\\right)^{2} r^{2}{\\left (\\tau \\right )}} & r^{2}{\\left (\\tau \\right )} \\frac{d^{2}}{d \\tau^{2}}  \\theta{\\left (\\tau \\right )} + 2 r{\\left (\\tau \\right )} \\frac{d}{d \\tau} \\theta{\\left (\\tau \\right )} \\frac{d}{d \\tau} r{\\left (\\tau \\right )} & r^{2}{\\left (\\tau \\right )} \\frac{d^{2}}{d \\tau^{2}}  \\phi{\\left (\\tau \\right )} + 2 r{\\left (\\tau \\right )} \\frac{d}{d \\tau} \\phi{\\left (\\tau \\right )} \\frac{d}{d \\tau} r{\\left (\\tau \\right )}\\end{matrix}\\right]$$"
      ],
      "text/plain": [
       "⎡                                                                             \n",
       "⎢                                                                             \n",
       "⎢                                           d              d                  \n",
       "⎢                  2              4.0e+30⋅─────(r(\\tau))⋅─────(t(\\tau))       \n",
       "⎢⎛     4.0e+30⎞   d                       d\\tau          d\\tau                \n",
       "⎢⎜-1 + ───────⎟⋅──────(t(\\tau)) - ─────────────────────────────────────  - r(\\\n",
       "⎢⎝     r(\\tau)⎠      2                            2                           \n",
       "⎢               d\\tau                            r (\\tau)                     \n",
       "⎢                                                                             \n",
       "⎣                                                                             \n",
       "\n",
       "                                                                              \n",
       "                                                                              \n",
       "                                                                     ⎛  d     \n",
       "                        2                                2   2.0e+30⋅⎜─────(t(\n",
       "     ⎛  d              ⎞            ⎛  d                ⎞            ⎝d\\tau   \n",
       "tau)⋅⎜─────(\\phi(\\tau))⎟  - r(\\tau)⋅⎜─────(\\theta(\\tau))⎟  + ─────────────────\n",
       "     ⎝d\\tau            ⎠            ⎝d\\tau              ⎠              2      \n",
       "                                                                      r (\\tau)\n",
       "                                                                              \n",
       "                                                                              \n",
       "\n",
       "              2                                                               \n",
       "       2     d                                       2                        \n",
       "      ⎞    ──────(r(\\tau))           ⎛  d           ⎞                         \n",
       "\\tau))⎟         2            2.0e+30⋅⎜─────(r(\\tau))⎟               2         \n",
       "      ⎠    d\\tau                     ⎝d\\tau         ⎠    2         d          \n",
       "──────── + ─────────────── - ─────────────────────────  r (\\tau)⋅──────(\\theta\n",
       "                 4.0e+30                   2                          2       \n",
       "             1 - ───────      ⎛    4.0e+30⎞   2                  d\\tau        \n",
       "                 r(\\tau)      ⎜1 - ───────⎟ ⋅r (\\tau)                         \n",
       "                              ⎝    r(\\tau)⎠                                   \n",
       "\n",
       "                                                                              \n",
       "                                                                              \n",
       "                                                                              \n",
       "                                                                    2         \n",
       "                      d                   d              2         d          \n",
       "(\\tau)) + 2⋅r(\\tau)⋅─────(\\theta(\\tau))⋅─────(r(\\tau))  r (\\tau)⋅──────(\\phi(\\\n",
       "                    d\\tau               d\\tau                         2       \n",
       "                                                                 d\\tau        \n",
       "                                                                              \n",
       "                                                                              \n",
       "\n",
       "                                                  ⎤\n",
       "                                                  ⎥\n",
       "                                                  ⎥\n",
       "                                                  ⎥\n",
       "                    d                 d           ⎥\n",
       "tau)) + 2⋅r(\\tau)⋅─────(\\phi(\\tau))⋅─────(r(\\tau))⎥\n",
       "                  d\\tau             d\\tau         ⎥\n",
       "                                                  ⎥\n",
       "                                                  ⎥\n",
       "                                                  ⎦"
      ]
     },
     "execution_count": 5,
     "metadata": {},
     "output_type": "execute_result"
    }
   ],
   "source": [
    "w = gravipy.Geodesic('w', g, tau)\n",
    "w(gravipy.All)"
   ]
  },
  {
   "cell_type": "code",
   "execution_count": 6,
   "metadata": {
    "collapsed": false,
    "deletable": true,
    "editable": true
   },
   "outputs": [],
   "source": [
    "d2t = sympy.solve(w(1),sympy.Derivative(t(tau),tau,tau))[0].subs({sympy.Derivative(t(tau),tau):a,sympy.Derivative(r(tau),tau):b,sympy.Derivative(phi(tau),tau):c,sympy.Derivative(theta(tau),tau):d})\n",
    "d2r = sympy.solve(w(2),sympy.Derivative(r(tau),tau,tau))[0].subs({sympy.Derivative(t(tau),tau):a,sympy.Derivative(r(tau),tau):b,sympy.Derivative(phi(tau),tau):c,sympy.Derivative(theta(tau),tau):d})\n",
    "d2theta = sympy.solve(w(3),sympy.Derivative(theta(tau),tau,tau))[0].subs({sympy.Derivative(t(tau),tau):a,sympy.Derivative(r(tau),tau):b,sympy.Derivative(phi(tau),tau):c,sympy.Derivative(theta(tau),tau):d})\n",
    "d2phi = sympy.solve(w(4),sympy.Derivative(phi(tau),tau,tau))[0].subs({sympy.Derivative(t(tau),tau):a,sympy.Derivative(r(tau),tau):b,sympy.Derivative(phi(tau),tau):c,sympy.Derivative(theta(tau),tau):d})"
   ]
  },
  {
   "cell_type": "code",
   "execution_count": 7,
   "metadata": {
    "collapsed": true,
    "deletable": true,
    "editable": true
   },
   "outputs": [],
   "source": [
    "d2tf = lambdify((a,b,c,d,t(tau),r(tau),theta(tau),phi(tau)),d2t,modules=\"numpy\")\n",
    "d2rf = lambdify((a,b,c,d,t(tau),r(tau),theta(tau),phi(tau)),d2r,modules=\"numpy\")\n",
    "d2thetaf = lambdify((a,b,c,d,t(tau),r(tau),theta(tau),phi(tau)),d2theta,modules=\"numpy\")\n",
    "d2phif = lambdify((a,b,c,d,t(tau),r(tau),theta(tau),phi(tau)),d2phi,modules=\"numpy\")"
   ]
  },
  {
   "cell_type": "code",
   "execution_count": 8,
   "metadata": {
    "collapsed": false,
    "deletable": true,
    "editable": true
   },
   "outputs": [
    {
     "name": "stdout",
     "output_type": "stream",
     "text": [
      "0.333333333333\n",
      "3.7037037037e+58\n",
      "-2.66666666667\n",
      "-2.0\n"
     ]
    }
   ],
   "source": [
    "print d2tf(1,2,3,4,5,6,7,8)\n",
    "print d2rf(1,2,3,4,5,6,7,8)\n",
    "print d2thetaf(1,2,3,4,5,6,7,8)\n",
    "print d2phif(1,2,3,4,5,6,7,8)"
   ]
  },
  {
   "cell_type": "code",
   "execution_count": 9,
   "metadata": {
    "collapsed": false,
    "deletable": true,
    "editable": true
   },
   "outputs": [],
   "source": [
    "def geo(x, tau):\n",
    "    dxdtau = np.zeros_like(x)\n",
    "    dxdtau[0] = x[0]\n",
    "    dxdtau[1] = x[1]\n",
    "    dxdtau[2] = x[2]\n",
    "    dxdtau[3] = x[3]\n",
    "    dxdtau[4] = d2tf(x[4],x[5],x[6],x[7],x[0],x[1],x[2],x[3])\n",
    "    dxdtau[5] = d2rf(x[4],x[5],x[6],x[7],x[0],x[1],x[2],x[3])\n",
    "    dxdtau[6] = d2thetaf(x[4],x[5],x[6],x[7],x[0],x[1],x[2],x[3])\n",
    "    dxdtau[7] = d2phif(x[4],x[5],x[6],x[7],x[0],x[1],x[2],x[3])\n",
    "    #dxdtau[4] = d2tf(x[0],x[1],x[2],x[3],x[4],x[5],x[6],x[7])\n",
    "    #dxdtau[5] = d2rf(x[0],x[1],x[2],x[3],x[4],x[5],x[6],x[7])\n",
    "    #dxdtau[6] = d2thetaf(x[0],x[1],x[2],x[3],x[4],x[5],x[6],x[7])\n",
    "    #dxdtau[7] = d2phif(x[0],x[1],x[2],x[3],x[4],x[5],x[6],x[7])\n",
    "    return dxdtau"
   ]
  },
  {
   "cell_type": "code",
   "execution_count": 10,
   "metadata": {
    "collapsed": false,
    "deletable": true,
    "editable": true
   },
   "outputs": [
    {
     "name": "stderr",
     "output_type": "stream",
     "text": [
      "/usr/local/lib/python2.7/site-packages/numpy/__init__.py:1: RuntimeWarning: invalid value encountered in double_scalars\n",
      "/usr/local/lib/python2.7/site-packages/numpy/__init__.py:1: RuntimeWarning: invalid value encountered in double_scalars\n",
      "/usr/local/lib/python2.7/site-packages/numpy/__init__.py:1: RuntimeWarning: divide by zero encountered in double_scalars\n",
      "/usr/local/lib/python2.7/site-packages/numpy/__init__.py:1: RuntimeWarning: divide by zero encountered in double_scalars\n",
      "/usr/local/lib/python2.7/site-packages/numpy/__init__.py:1: RuntimeWarning: invalid value encountered in double_scalars\n",
      "/usr/local/lib/python2.7/site-packages/scipy/integrate/odepack.py:218: ODEintWarning: Illegal input detected (internal error). Run with full_output = 1 to get quantitative information.\n",
      "  warnings.warn(warning_msg, ODEintWarning)\n"
     ]
    }
   ],
   "source": [
    "tau = np.arange(0,1e7,1)\n",
    "x0_ = np.array([1,0,30e3/1.5e11,0,0,1.5e11,0,np.pi/2])\n",
    "x_ = odeint(geo, x0_, tau)"
   ]
  },
  {
   "cell_type": "code",
   "execution_count": 11,
   "metadata": {
    "collapsed": false,
    "deletable": true,
    "editable": true
   },
   "outputs": [
    {
     "name": "stdout",
     "output_type": "stream",
     "text": [
      "[[  1.00000000e+00   0.00000000e+00   2.00000000e-07 ...,   1.50000000e+11\n",
      "    0.00000000e+00   1.57079633e+00]\n",
      " [  1.00000000e+00   0.00000000e+00   2.00000000e-07 ...,              nan\n",
      "               nan              nan]\n",
      " [  1.00000000e+00   0.00000000e+00   2.00000000e-07 ...,              nan\n",
      "               nan              nan]\n",
      " ..., \n",
      " [  0.00000000e+00   0.00000000e+00   0.00000000e+00 ...,   0.00000000e+00\n",
      "    0.00000000e+00   0.00000000e+00]\n",
      " [  0.00000000e+00   0.00000000e+00   0.00000000e+00 ...,   0.00000000e+00\n",
      "    0.00000000e+00   0.00000000e+00]\n",
      " [  0.00000000e+00   0.00000000e+00   0.00000000e+00 ...,   0.00000000e+00\n",
      "    0.00000000e+00   0.00000000e+00]]\n"
     ]
    }
   ],
   "source": [
    "print x_"
   ]
  },
  {
   "cell_type": "code",
   "execution_count": null,
   "metadata": {
    "collapsed": false,
    "deletable": true,
    "editable": true
   },
   "outputs": [],
   "source": [
    "plt.plot(x_[:,5]*np.cos(x_[:,6]),x_[:,5]*np.sin(x_[:,6]))\n",
    "#plt.plot(x_[:,4],x_[:,5])"
   ]
  },
  {
   "cell_type": "code",
   "execution_count": null,
   "metadata": {
    "collapsed": true,
    "deletable": true,
    "editable": true
   },
   "outputs": [],
   "source": []
  },
  {
   "cell_type": "code",
   "execution_count": null,
   "metadata": {
    "collapsed": true
   },
   "outputs": [],
   "source": []
  },
  {
   "cell_type": "code",
   "execution_count": null,
   "metadata": {
    "collapsed": true
   },
   "outputs": [],
   "source": []
  }
 ],
 "metadata": {
  "kernelspec": {
   "display_name": "Python 2",
   "language": "python",
   "name": "python2"
  },
  "language_info": {
   "codemirror_mode": {
    "name": "ipython",
    "version": 2
   },
   "file_extension": ".py",
   "mimetype": "text/x-python",
   "name": "python",
   "nbconvert_exporter": "python",
   "pygments_lexer": "ipython2",
   "version": "2.7.13"
  }
 },
 "nbformat": 4,
 "nbformat_minor": 2
}
