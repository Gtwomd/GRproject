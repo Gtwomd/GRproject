{
 "cells": [
  {
   "cell_type": "code",
   "execution_count": 1,
   "metadata": {
    "collapsed": false,
    "deletable": true,
    "editable": true
   },
   "outputs": [],
   "source": [
    "import gravipy\n",
    "import numpy as np\n",
    "import matplotlib.pyplot\n",
    "import sympy\n",
    "gravipy.init_printing()"
   ]
  },
  {
   "cell_type": "code",
   "execution_count": 2,
   "metadata": {
    "collapsed": true,
    "deletable": true,
    "editable": true
   },
   "outputs": [],
   "source": [
    "t, m,r,theta,phi,tau = gravipy.symbols('t M r \\\\theta \\phi \\\\tau')"
   ]
  },
  {
   "cell_type": "code",
   "execution_count": 3,
   "metadata": {
    "collapsed": false,
    "deletable": true,
    "editable": true
   },
   "outputs": [],
   "source": [
    "x = gravipy.Coordinates('\\chi', [t, r, theta, phi])\n",
    "Metric = gravipy.diag(-(1-2*m/r), 1/(1-2*m/r), r**2, r**2*gravipy.sin(theta)**2)\n",
    "Metric2D = gravipy.diag(-(1-2*m/r), 1/(1-2*m/r), r**2, r**2)\n",
    "Metric_weak = gravipy.diag(-(1+2*m/r), (1+2*m/r), (1+2*m/r), (1+2*m/r))"
   ]
  },
  {
   "cell_type": "code",
   "execution_count": 4,
   "metadata": {
    "collapsed": false,
    "deletable": true,
    "editable": true
   },
   "outputs": [],
   "source": [
    "g = gravipy.MetricTensor('g', x, Metric2D)\n"
   ]
  },
  {
   "cell_type": "code",
   "execution_count": 5,
   "metadata": {
    "collapsed": false,
    "deletable": true,
    "editable": true
   },
   "outputs": [],
   "source": [
    "#Ga = gravipy.Christoffel('Ga', g)"
   ]
  },
  {
   "cell_type": "code",
   "execution_count": 6,
   "metadata": {
    "collapsed": false,
    "deletable": true,
    "editable": true
   },
   "outputs": [],
   "source": [
    "#Ga(gravipy.All,gravipy.All,gravipy.All)"
   ]
  },
  {
   "cell_type": "code",
   "execution_count": 7,
   "metadata": {
    "collapsed": false,
    "deletable": true,
    "editable": true
   },
   "outputs": [
    {
     "data": {
      "image/png": "[encoded data removed]",
      "text/latex": [
       "$$\\left[\\begin{matrix}- \\frac{2 M \\frac{d}{d \\tau} r{\\left (\\tau \\right )}}{r^{2}{\\left (\\tau \\right )}} \\frac{d}{d \\tau} t{\\left (\\tau \\right )} + \\left(\\frac{2 M}{r{\\left (\\tau \\right )}} - 1\\right) \\frac{d^{2}}{d \\tau^{2}}  t{\\left (\\tau \\right )} & \\frac{M \\frac{d}{d \\tau} t{\\left (\\tau \\right )}^{2}}{r^{2}{\\left (\\tau \\right )}} - \\frac{M \\frac{d}{d \\tau} r{\\left (\\tau \\right )}^{2}}{\\left(- \\frac{2 M}{r{\\left (\\tau \\right )}} + 1\\right)^{2} r^{2}{\\left (\\tau \\right )}} - r{\\left (\\tau \\right )} \\frac{d}{d \\tau} \\phi{\\left (\\tau \\right )}^{2} - r{\\left (\\tau \\right )} \\frac{d}{d \\tau} \\theta{\\left (\\tau \\right )}^{2} + \\frac{\\frac{d^{2}}{d \\tau^{2}}  r{\\left (\\tau \\right )}}{- \\frac{2 M}{r{\\left (\\tau \\right )}} + 1} & r^{2}{\\left (\\tau \\right )} \\frac{d^{2}}{d \\tau^{2}}  \\theta{\\left (\\tau \\right )} + 2 r{\\left (\\tau \\right )} \\frac{d}{d \\tau} \\theta{\\left (\\tau \\right )} \\frac{d}{d \\tau} r{\\left (\\tau \\right )} & r^{2}{\\left (\\tau \\right )} \\frac{d^{2}}{d \\tau^{2}}  \\phi{\\left (\\tau \\right )} + 2 r{\\left (\\tau \\right )} \\frac{d}{d \\tau} \\phi{\\left (\\tau \\right )} \\frac{d}{d \\tau} r{\\left (\\tau \\right )}\\end{matrix}\\right]$$"
      ],
      "text/plain": [
       "⎡                                                                             \n",
       "⎢                                                                             \n",
       "⎢        d              d                                               ⎛  d  \n",
       "⎢  2⋅M⋅─────(r(\\tau))⋅─────(t(\\tau))                    2             M⋅⎜─────\n",
       "⎢      d\\tau          d\\tau            ⎛  2⋅M      ⎞   d                ⎝d\\tau\n",
       "⎢- ───────────────────────────────── + ⎜─────── - 1⎟⋅──────(t(\\tau))  ────────\n",
       "⎢                2                     ⎝r(\\tau)    ⎠      2                  2\n",
       "⎢               r (\\tau)                             d\\tau                  r \n",
       "⎢                                                                             \n",
       "⎣                                                                             \n",
       "\n",
       "                                                                              \n",
       "          2                        2                                          \n",
       "         ⎞         ⎛  d           ⎞                                           \n",
       "(t(\\tau))⎟       M⋅⎜─────(r(\\tau))⎟                                  2        \n",
       "         ⎠         ⎝d\\tau         ⎠               ⎛  d              ⎞         \n",
       "─────────── - ───────────────────────── - r(\\tau)⋅⎜─────(\\phi(\\tau))⎟  - r(\\ta\n",
       "                             2                    ⎝d\\tau            ⎠         \n",
       "(\\tau)        ⎛    2⋅M      ⎞   2                                             \n",
       "              ⎜- ─────── + 1⎟ ⋅r (\\tau)                                       \n",
       "              ⎝  r(\\tau)    ⎠                                                 \n",
       "\n",
       "                               2                                              \n",
       "                              d                                               \n",
       "                            ──────(r(\\tau))                                   \n",
       "                        2        2                       2                    \n",
       "   ⎛  d                ⎞    d\\tau             2         d                     \n",
       "u)⋅⎜─────(\\theta(\\tau))⎟  + ───────────────  r (\\tau)⋅──────(\\theta(\\tau)) + 2\n",
       "   ⎝d\\tau              ⎠         2⋅M                       2                  \n",
       "                             - ─────── + 1            d\\tau                   \n",
       "                               r(\\tau)                                        \n",
       "                                                                              \n",
       "\n",
       "                                                                              \n",
       "                                                                              \n",
       "                                                                              \n",
       "                                                         2                    \n",
       "           d                   d              2         d                     \n",
       "⋅r(\\tau)⋅─────(\\theta(\\tau))⋅─────(r(\\tau))  r (\\tau)⋅──────(\\phi(\\tau)) + 2⋅r\n",
       "         d\\tau               d\\tau                         2                  \n",
       "                                                      d\\tau                   \n",
       "                                                                              \n",
       "                                                                              \n",
       "\n",
       "                                       ⎤\n",
       "                                       ⎥\n",
       "                                       ⎥\n",
       "                                       ⎥\n",
       "         d                 d           ⎥\n",
       "(\\tau)⋅─────(\\phi(\\tau))⋅─────(r(\\tau))⎥\n",
       "       d\\tau             d\\tau         ⎥\n",
       "                                       ⎥\n",
       "                                       ⎥\n",
       "                                       ⎦"
      ]
     },
     "execution_count": 7,
     "metadata": {},
     "output_type": "execute_result"
    }
   ],
   "source": [
    "w = gravipy.Geodesic('w', g, tau)\n",
    "w(gravipy.All)"
   ]
  },
  {
   "cell_type": "code",
   "execution_count": 8,
   "metadata": {
    "collapsed": false,
    "deletable": true,
    "editable": true
   },
   "outputs": [
    {
     "name": "stdout",
     "output_type": "stream",
     "text": [
      "Matrix([[-2*M*Derivative(r(\\tau), \\tau)*Derivative(t(\\tau), \\tau)/r(\\tau)**2 + (2*M/r(\\tau) - 1)*Derivative(t(\\tau), \\tau, \\tau), M*Derivative(t(\\tau), \\tau)**2/r(\\tau)**2 - M*Derivative(r(\\tau), \\tau)**2/((-2*M/r(\\tau) + 1)**2*r(\\tau)**2) - r(\\tau)*Derivative(\\phi(\\tau), \\tau)**2 - r(\\tau)*Derivative(\\theta(\\tau), \\tau)**2 + Derivative(r(\\tau), \\tau, \\tau)/(-2*M/r(\\tau) + 1), r(\\tau)**2*Derivative(\\theta(\\tau), \\tau, \\tau) + 2*r(\\tau)*Derivative(\\theta(\\tau), \\tau)*Derivative(r(\\tau), \\tau), r(\\tau)**2*Derivative(\\phi(\\tau), \\tau, \\tau) + 2*r(\\tau)*Derivative(\\phi(\\tau), \\tau)*Derivative(r(\\tau), \\tau)]])\n"
     ]
    }
   ],
   "source": [
    "print w(gravipy.All)"
   ]
  },
  {
   "cell_type": "code",
   "execution_count": 11,
   "metadata": {
    "collapsed": false,
    "deletable": true,
    "editable": true
   },
   "outputs": [
    {
     "data": {
      "image/png": "[encoded data removed]",
      "text/latex": [
       "$$- \\frac{2 M \\frac{d}{d \\tau} r{\\left (\\tau \\right )}}{r^{2}{\\left (\\tau \\right )}} \\frac{d}{d \\tau} t{\\left (\\tau \\right )} + \\left(\\frac{2 M}{r{\\left (\\tau \\right )}} - 1\\right) \\frac{d^{2}}{d \\tau^{2}}  t{\\left (\\tau \\right )}$$"
      ],
      "text/plain": [
       "        d              d                                           \n",
       "  2⋅M⋅─────(r(\\tau))⋅─────(t(\\tau))                    2           \n",
       "      d\\tau          d\\tau            ⎛  2⋅M      ⎞   d            \n",
       "- ───────────────────────────────── + ⎜─────── - 1⎟⋅──────(t(\\tau))\n",
       "                2                     ⎝r(\\tau)    ⎠      2         \n",
       "               r (\\tau)                             d\\tau          "
      ]
     },
     "execution_count": 11,
     "metadata": {},
     "output_type": "execute_result"
    }
   ],
   "source": [
    "w(1)"
   ]
  },
  {
   "cell_type": "code",
   "execution_count": null,
   "metadata": {
    "collapsed": false,
    "deletable": true,
    "editable": true
   },
   "outputs": [],
   "source": [
    "#system = w(gravipy.All).expand()"
   ]
  },
  {
   "cell_type": "code",
   "execution_count": null,
   "metadata": {
    "collapsed": false,
    "deletable": true,
    "editable": true
   },
   "outputs": [],
   "source": [
    "w(gravipy.All)"
   ]
  },
  {
   "cell_type": "code",
   "execution_count": null,
   "metadata": {
    "collapsed": false,
    "deletable": true,
    "editable": true
   },
   "outputs": [],
   "source": [
    "system"
   ]
  },
  {
   "cell_type": "code",
   "execution_count": null,
   "metadata": {
    "collapsed": false,
    "deletable": true,
    "editable": true
   },
   "outputs": [],
   "source": [
    "system[0].as_coeff_Add()"
   ]
  },
  {
   "cell_type": "code",
   "execution_count": null,
   "metadata": {
    "collapsed": false,
    "deletable": true,
    "editable": true
   },
   "outputs": [],
   "source": []
  },
  {
   "cell_type": "code",
   "execution_count": null,
   "metadata": {
    "collapsed": false,
    "deletable": true,
    "editable": true
   },
   "outputs": [],
   "source": [
    "help(gravipy.Geodesic)"
   ]
  },
  {
   "cell_type": "code",
   "execution_count": null,
   "metadata": {
    "collapsed": false,
    "deletable": true,
    "editable": true
   },
   "outputs": [],
   "source": []
  },
  {
   "cell_type": "code",
   "execution_count": null,
   "metadata": {
    "collapsed": true,
    "deletable": true,
    "editable": true
   },
   "outputs": [],
   "source": []
  }
 ],
 "metadata": {
  "kernelspec": {
   "display_name": "Python 2",
   "language": "python",
   "name": "python2"
  },
  "language_info": {
   "codemirror_mode": {
    "name": "ipython",
    "version": 2
   },
   "file_extension": ".py",
   "mimetype": "text/x-python",
   "name": "python",
   "nbconvert_exporter": "python",
   "pygments_lexer": "ipython2",
   "version": "2.7.13"
  }
 },
 "nbformat": 4,
 "nbformat_minor": 2
}
