{
 "cells": [
  {
   "cell_type": "code",
   "execution_count": 1,
   "metadata": {
    "collapsed": false,
    "deletable": true,
    "editable": true
   },
   "outputs": [],
   "source": [
    "import gravipy\n",
    "import numpy as np\n",
    "import matplotlib.pyplot as plt\n",
    "import sympy\n",
    "from sympy import lambdify\n",
    "from sympy.abc import a,b,c,d\n",
    "from scipy.integrate import odeint\n",
    "%matplotlib inline\n",
    "gravipy.init_printing()"
   ]
  },
  {
   "cell_type": "code",
   "execution_count": 2,
   "metadata": {
    "collapsed": true,
    "deletable": true,
    "editable": true
   },
   "outputs": [],
   "source": [
    "t, r,theta,phi,tau = gravipy.symbols('t r \\\\theta \\phi \\\\tau')"
   ]
  },
  {
   "cell_type": "code",
   "execution_count": 3,
   "metadata": {
    "collapsed": false,
    "deletable": true,
    "editable": true
   },
   "outputs": [],
   "source": [
    "m=5\n",
    "x = gravipy.Coordinates('\\chi', [t, r, theta, phi])\n",
    "Metric = gravipy.diag(-(1-2*m/r), 1/(1-2*m/r), r**2, r**2*gravipy.sin(theta)**2)\n",
    "Metric2D = gravipy.diag(-(1-2*m/r), 1/(1-2*m/r), r**2, r**2)\n",
    "Metric_weak = gravipy.diag(-(1+2*m/r), (1+2*m/r), (1+2*m/r), (1+2*m/r))"
   ]
  },
  {
   "cell_type": "code",
   "execution_count": 4,
   "metadata": {
    "collapsed": false,
    "deletable": true,
    "editable": true
   },
   "outputs": [],
   "source": [
    "g = gravipy.MetricTensor('g', x, Metric2D)\n"
   ]
  },
  {
   "cell_type": "code",
   "execution_count": 5,
   "metadata": {
    "collapsed": false,
    "deletable": true,
    "editable": true
   },
   "outputs": [
    {
     "data": {
      "image/png": "[encoded data removed]",
      "text/latex": [
       "$$\\left[\\begin{matrix}\\left(-1 + \\frac{10}{r{\\left (\\tau \\right )}}\\right) \\frac{d^{2}}{d \\tau^{2}}  t{\\left (\\tau \\right )} - \\frac{10 \\frac{d}{d \\tau} r{\\left (\\tau \\right )}}{r^{2}{\\left (\\tau \\right )}} \\frac{d}{d \\tau} t{\\left (\\tau \\right )} & - r{\\left (\\tau \\right )} \\frac{d}{d \\tau} \\phi{\\left (\\tau \\right )}^{2} - r{\\left (\\tau \\right )} \\frac{d}{d \\tau} \\theta{\\left (\\tau \\right )}^{2} + \\frac{5 \\frac{d}{d \\tau} t{\\left (\\tau \\right )}^{2}}{r^{2}{\\left (\\tau \\right )}} + \\frac{\\frac{d^{2}}{d \\tau^{2}}  r{\\left (\\tau \\right )}}{1 - \\frac{10}{r{\\left (\\tau \\right )}}} - \\frac{5 \\frac{d}{d \\tau} r{\\left (\\tau \\right )}^{2}}{\\left(1 - \\frac{10}{r{\\left (\\tau \\right )}}\\right)^{2} r^{2}{\\left (\\tau \\right )}} & r^{2}{\\left (\\tau \\right )} \\frac{d^{2}}{d \\tau^{2}}  \\theta{\\left (\\tau \\right )} + 2 r{\\left (\\tau \\right )} \\frac{d}{d \\tau} \\theta{\\left (\\tau \\right )} \\frac{d}{d \\tau} r{\\left (\\tau \\right )} & r^{2}{\\left (\\tau \\right )} \\frac{d^{2}}{d \\tau^{2}}  \\phi{\\left (\\tau \\right )} + 2 r{\\left (\\tau \\right )} \\frac{d}{d \\tau} \\phi{\\left (\\tau \\right )} \\frac{d}{d \\tau} r{\\left (\\tau \\right )}\\end{matrix}\\right]$$"
      ],
      "text/plain": [
       "⎡                                                                             \n",
       "⎢                                                                             \n",
       "⎢                                      d              d                       \n",
       "⎢                  2              10⋅─────(r(\\tau))⋅─────(t(\\tau))            \n",
       "⎢⎛        10  ⎞   d                  d\\tau          d\\tau                     \n",
       "⎢⎜-1 + ───────⎟⋅──────(t(\\tau)) - ────────────────────────────────  - r(\\tau)⋅\n",
       "⎢⎝     r(\\tau)⎠      2                         2                              \n",
       "⎢               d\\tau                         r (\\tau)                        \n",
       "⎢                                                                             \n",
       "⎣                                                                             \n",
       "\n",
       "                                                                              \n",
       "                                                                          2   \n",
       "                                                          ⎛  d           ⎞    \n",
       "                   2                                2   5⋅⎜─────(t(\\tau))⎟    \n",
       "⎛  d              ⎞            ⎛  d                ⎞      ⎝d\\tau         ⎠    \n",
       "⎜─────(\\phi(\\tau))⎟  - r(\\tau)⋅⎜─────(\\theta(\\tau))⎟  + ─────────────────── + \n",
       "⎝d\\tau            ⎠            ⎝d\\tau              ⎠           2              \n",
       "                                                              r (\\tau)        \n",
       "                                                                              \n",
       "                                                                              \n",
       "\n",
       "   2                                                                          \n",
       "  d                                   2                                       \n",
       "──────(r(\\tau))       ⎛  d           ⎞                                        \n",
       "     2              5⋅⎜─────(r(\\tau))⎟                 2                      \n",
       "d\\tau                 ⎝d\\tau         ⎠      2         d                       \n",
       "─────────────── - ───────────────────────  r (\\tau)⋅──────(\\theta(\\tau)) + 2⋅r\n",
       "         10                    2                         2                    \n",
       "  1 - ───────     ⎛       10  ⎞   2                 d\\tau                     \n",
       "      r(\\tau)     ⎜1 - ───────⎟ ⋅r (\\tau)                                     \n",
       "                  ⎝    r(\\tau)⎠                                               \n",
       "\n",
       "                                                                              \n",
       "                                                                              \n",
       "                                                                              \n",
       "                                                       2                      \n",
       "         d                   d              2         d                       \n",
       "(\\tau)⋅─────(\\theta(\\tau))⋅─────(r(\\tau))  r (\\tau)⋅──────(\\phi(\\tau)) + 2⋅r(\\\n",
       "       d\\tau               d\\tau                         2                    \n",
       "                                                    d\\tau                     \n",
       "                                                                              \n",
       "                                                                              \n",
       "\n",
       "                                     ⎤\n",
       "                                     ⎥\n",
       "                                     ⎥\n",
       "                                     ⎥\n",
       "       d                 d           ⎥\n",
       "tau)⋅─────(\\phi(\\tau))⋅─────(r(\\tau))⎥\n",
       "     d\\tau             d\\tau         ⎥\n",
       "                                     ⎥\n",
       "                                     ⎥\n",
       "                                     ⎦"
      ]
     },
     "execution_count": 5,
     "metadata": {},
     "output_type": "execute_result"
    }
   ],
   "source": [
    "w = gravipy.Geodesic('w', g, tau)\n",
    "w(gravipy.All)"
   ]
  },
  {
   "cell_type": "code",
   "execution_count": 6,
   "metadata": {
    "collapsed": false
   },
   "outputs": [],
   "source": [
    "d2t = sympy.solve(w(1),sympy.Derivative(t(tau),tau,tau))[0].subs({sympy.Derivative(t(tau),tau):a,sympy.Derivative(r(tau),tau):b,sympy.Derivative(phi(tau),tau):c,sympy.Derivative(theta(tau),tau):d})\n",
    "d2r = sympy.solve(w(2),sympy.Derivative(r(tau),tau,tau))[0].subs({sympy.Derivative(t(tau),tau):a,sympy.Derivative(r(tau),tau):b,sympy.Derivative(phi(tau),tau):c,sympy.Derivative(theta(tau),tau):d})\n",
    "d2theta = sympy.solve(w(3),sympy.Derivative(theta(tau),tau,tau))[0].subs({sympy.Derivative(t(tau),tau):a,sympy.Derivative(r(tau),tau):b,sympy.Derivative(phi(tau),tau):c,sympy.Derivative(theta(tau),tau):d})\n",
    "d2phi = sympy.solve(w(4),sympy.Derivative(phi(tau),tau,tau))[0].subs({sympy.Derivative(t(tau),tau):a,sympy.Derivative(r(tau),tau):b,sympy.Derivative(phi(tau),tau):c,sympy.Derivative(theta(tau),tau):d})"
   ]
  },
  {
   "cell_type": "code",
   "execution_count": 7,
   "metadata": {
    "collapsed": true
   },
   "outputs": [],
   "source": [
    "d2tf = lambdify((a,b,c,d,t(tau),r(tau),theta(tau),phi(tau)),d2t,modules=\"numpy\")\n",
    "d2rf = lambdify((a,b,c,d,t(tau),r(tau),theta(tau),phi(tau)),d2r,modules=\"numpy\")\n",
    "d2thetaf = lambdify((a,b,c,d,t(tau),r(tau),theta(tau),phi(tau)),d2theta,modules=\"numpy\")\n",
    "d2phif = lambdify((a,b,c,d,t(tau),r(tau),theta(tau),phi(tau)),d2phi,modules=\"numpy\")"
   ]
  },
  {
   "cell_type": "code",
   "execution_count": 8,
   "metadata": {
    "collapsed": false,
    "deletable": true,
    "editable": true
   },
   "outputs": [
    {
     "name": "stdout",
     "output_type": "stream",
     "text": [
      "0.833333333333\n",
      "-100.740740741\n",
      "-2.66666666667\n",
      "-2.0\n"
     ]
    }
   ],
   "source": [
    "print d2tf(1,2,3,4,5,6,7,8)\n",
    "print d2rf(1,2,3,4,5,6,7,8)\n",
    "print d2thetaf(1,2,3,4,5,6,7,8)\n",
    "print d2phif(1,2,3,4,5,6,7,8)"
   ]
  },
  {
   "cell_type": "code",
   "execution_count": 9,
   "metadata": {
    "collapsed": false,
    "deletable": true,
    "editable": true
   },
   "outputs": [],
   "source": [
    "def geo(x, tau):\n",
    "    dxdtau = np.zeros_like(x)\n",
    "    dxdtau[0] = x[4]\n",
    "    dxdtau[1] = x[5]\n",
    "    dxdtau[2] = x[6]\n",
    "    dxdtau[3] = x[7]\n",
    "    dxdtau[4] = d2tf(x[0],x[1],x[2],x[3],x[4],x[5],x[6],x[7])\n",
    "    dxdtau[5] = d2rf(x[0],x[1],x[2],x[3],x[4],x[5],x[6],x[7])\n",
    "    dxdtau[6] = d2thetaf(x[0],x[1],x[2],x[3],x[4],x[5],x[6],x[7])\n",
    "    dxdtau[7] = d2phif(x[0],x[1],x[2],x[3],x[4],x[5],x[6],x[7])\n",
    "    return dxdtau"
   ]
  },
  {
   "cell_type": "code",
   "execution_count": 25,
   "metadata": {
    "collapsed": false,
    "deletable": true,
    "editable": true
   },
   "outputs": [],
   "source": [
    "tau = np.arange(0,10,.1)\n",
    "x0_ = np.array([1,2,0,4,5,6,0,6])\n",
    "x_ = odeint(geo, x0_, tau)"
   ]
  },
  {
   "cell_type": "code",
   "execution_count": 26,
   "metadata": {
    "collapsed": false,
    "deletable": true,
    "editable": true
   },
   "outputs": [],
   "source": [
    "#print x_"
   ]
  },
  {
   "cell_type": "code",
   "execution_count": 27,
   "metadata": {
    "collapsed": false,
    "deletable": true,
    "editable": true
   },
   "outputs": [
    {
     "data": {
      "text/plain": [
       "[<matplotlib.lines.Line2D at 0x10f990a90>]"
      ]
     },
     "execution_count": 27,
     "metadata": {},
     "output_type": "execute_result"
    },
    {
     "data": {
      "image/png": "[encoded data removed]",
      "text/plain": [
       "<matplotlib.figure.Figure at 0x10f710d10>"
      ]
     },
     "metadata": {},
     "output_type": "display_data"
    }
   ],
   "source": [
    "plt.plot(x_[:,0],x_[:,1])\n"
   ]
  },
  {
   "cell_type": "code",
   "execution_count": null,
   "metadata": {
    "collapsed": true,
    "deletable": true,
    "editable": true
   },
   "outputs": [],
   "source": []
  }
 ],
 "metadata": {
  "kernelspec": {
   "display_name": "Python 2",
   "language": "python",
   "name": "python2"
  },
  "language_info": {
   "codemirror_mode": {
    "name": "ipython",
    "version": 2
   },
   "file_extension": ".py",
   "mimetype": "text/x-python",
   "name": "python",
   "nbconvert_exporter": "python",
   "pygments_lexer": "ipython2",
   "version": "2.7.13"
  }
 },
 "nbformat": 4,
 "nbformat_minor": 2
}
